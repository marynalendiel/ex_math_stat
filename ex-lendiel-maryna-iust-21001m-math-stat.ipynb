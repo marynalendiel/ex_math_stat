{
 "cells": [
  {
   "cell_type": "code",
   "execution_count": 1,
   "id": "caf8c82a",
   "metadata": {
    "execution": {
     "iopub.execute_input": "2022-10-24T12:52:51.122875Z",
     "iopub.status.busy": "2022-10-24T12:52:51.121906Z",
     "iopub.status.idle": "2022-10-24T12:52:52.599153Z",
     "shell.execute_reply": "2022-10-24T12:52:52.599795Z",
     "shell.execute_reply.started": "2021-10-05T15:24:29.085286Z"
    },
    "papermill": {
     "duration": 1.49103,
     "end_time": "2022-10-24T12:52:52.600084",
     "exception": false,
     "start_time": "2022-10-24T12:52:51.109054",
     "status": "completed"
    },
    "tags": []
   },
   "outputs": [],
   "source": [
    "import numpy as np # linear algebra\n",
    "import pandas as pd # data processing, CSV file I/O (e.g. pd.read_csv)\n",
    "import matplotlib.pyplot as plt\n",
    "from sklearn.linear_model import LinearRegression\n",
    "import statsmodels.api as sm"
   ]
  },
  {
   "cell_type": "code",
   "execution_count": 2,
   "id": "97ea1082",
   "metadata": {
    "execution": {
     "iopub.execute_input": "2022-10-24T12:52:52.622002Z",
     "iopub.status.busy": "2022-10-24T12:52:52.621338Z",
     "iopub.status.idle": "2022-10-24T12:52:52.640666Z",
     "shell.execute_reply": "2022-10-24T12:52:52.640184Z",
     "shell.execute_reply.started": "2021-10-05T15:24:29.091591Z"
    },
    "papermill": {
     "duration": 0.032544,
     "end_time": "2022-10-24T12:52:52.640777",
     "exception": false,
     "start_time": "2022-10-24T12:52:52.608233",
     "status": "completed"
    },
    "tags": []
   },
   "outputs": [],
   "source": [
    "#import csv file \n",
    "table = pd.read_csv(\"../input/wine-quality/winequality-red-2.csv\", usecols = ['sulphates','fixed acidity', 'volatile acidity', 'citric acid', 'quality'])"
   ]
  },
  {
   "cell_type": "markdown",
   "id": "91cbf2d9",
   "metadata": {
    "papermill": {
     "duration": 0.007721,
     "end_time": "2022-10-24T12:52:52.656219",
     "exception": false,
     "start_time": "2022-10-24T12:52:52.648498",
     "status": "completed"
    },
    "tags": []
   },
   "source": [
    "# За даними набору даних, що додається оцінити: \n",
    "# - статистичні характеристики окремих показників;   "
   ]
  },
  {
   "cell_type": "code",
   "execution_count": 3,
   "id": "4d05c6f0",
   "metadata": {
    "execution": {
     "iopub.execute_input": "2022-10-24T12:52:52.682812Z",
     "iopub.status.busy": "2022-10-24T12:52:52.682233Z",
     "iopub.status.idle": "2022-10-24T12:52:52.711083Z",
     "shell.execute_reply": "2022-10-24T12:52:52.711548Z",
     "shell.execute_reply.started": "2021-10-05T15:25:50.653554Z"
    },
    "papermill": {
     "duration": 0.047946,
     "end_time": "2022-10-24T12:52:52.711696",
     "exception": false,
     "start_time": "2022-10-24T12:52:52.663750",
     "status": "completed"
    },
    "tags": []
   },
   "outputs": [
    {
     "data": {
      "text/html": [
       "<div>\n",
       "<style scoped>\n",
       "    .dataframe tbody tr th:only-of-type {\n",
       "        vertical-align: middle;\n",
       "    }\n",
       "\n",
       "    .dataframe tbody tr th {\n",
       "        vertical-align: top;\n",
       "    }\n",
       "\n",
       "    .dataframe thead th {\n",
       "        text-align: right;\n",
       "    }\n",
       "</style>\n",
       "<table border=\"1\" class=\"dataframe\">\n",
       "  <thead>\n",
       "    <tr style=\"text-align: right;\">\n",
       "      <th></th>\n",
       "      <th>sulphates</th>\n",
       "      <th>fixed acidity</th>\n",
       "      <th>volatile acidity</th>\n",
       "      <th>citric acid</th>\n",
       "      <th>quality</th>\n",
       "    </tr>\n",
       "  </thead>\n",
       "  <tbody>\n",
       "    <tr>\n",
       "      <th>count</th>\n",
       "      <td>1599.000000</td>\n",
       "      <td>1599.000000</td>\n",
       "      <td>1599.000000</td>\n",
       "      <td>1599.000000</td>\n",
       "      <td>1599.000000</td>\n",
       "    </tr>\n",
       "    <tr>\n",
       "      <th>mean</th>\n",
       "      <td>0.658149</td>\n",
       "      <td>8.319637</td>\n",
       "      <td>0.527821</td>\n",
       "      <td>0.270976</td>\n",
       "      <td>5.636023</td>\n",
       "    </tr>\n",
       "    <tr>\n",
       "      <th>std</th>\n",
       "      <td>0.169507</td>\n",
       "      <td>1.741096</td>\n",
       "      <td>0.179060</td>\n",
       "      <td>0.194801</td>\n",
       "      <td>0.807569</td>\n",
       "    </tr>\n",
       "    <tr>\n",
       "      <th>min</th>\n",
       "      <td>0.330000</td>\n",
       "      <td>4.600000</td>\n",
       "      <td>0.120000</td>\n",
       "      <td>0.000000</td>\n",
       "      <td>3.000000</td>\n",
       "    </tr>\n",
       "    <tr>\n",
       "      <th>25%</th>\n",
       "      <td>0.550000</td>\n",
       "      <td>7.100000</td>\n",
       "      <td>0.390000</td>\n",
       "      <td>0.090000</td>\n",
       "      <td>5.000000</td>\n",
       "    </tr>\n",
       "    <tr>\n",
       "      <th>50%</th>\n",
       "      <td>0.620000</td>\n",
       "      <td>7.900000</td>\n",
       "      <td>0.520000</td>\n",
       "      <td>0.260000</td>\n",
       "      <td>6.000000</td>\n",
       "    </tr>\n",
       "    <tr>\n",
       "      <th>75%</th>\n",
       "      <td>0.730000</td>\n",
       "      <td>9.200000</td>\n",
       "      <td>0.640000</td>\n",
       "      <td>0.420000</td>\n",
       "      <td>6.000000</td>\n",
       "    </tr>\n",
       "    <tr>\n",
       "      <th>max</th>\n",
       "      <td>2.000000</td>\n",
       "      <td>15.900000</td>\n",
       "      <td>1.580000</td>\n",
       "      <td>1.000000</td>\n",
       "      <td>8.000000</td>\n",
       "    </tr>\n",
       "  </tbody>\n",
       "</table>\n",
       "</div>"
      ],
      "text/plain": [
       "         sulphates  fixed acidity  volatile acidity  citric acid      quality\n",
       "count  1599.000000    1599.000000       1599.000000  1599.000000  1599.000000\n",
       "mean      0.658149       8.319637          0.527821     0.270976     5.636023\n",
       "std       0.169507       1.741096          0.179060     0.194801     0.807569\n",
       "min       0.330000       4.600000          0.120000     0.000000     3.000000\n",
       "25%       0.550000       7.100000          0.390000     0.090000     5.000000\n",
       "50%       0.620000       7.900000          0.520000     0.260000     6.000000\n",
       "75%       0.730000       9.200000          0.640000     0.420000     6.000000\n",
       "max       2.000000      15.900000          1.580000     1.000000     8.000000"
      ]
     },
     "execution_count": 3,
     "metadata": {},
     "output_type": "execute_result"
    }
   ],
   "source": [
    "from scipy import stats\n",
    "from statsmodels import robust\n",
    "\n",
    "#func for calculating weighted median\n",
    "# def weighted_median(data, weights):\n",
    "#     data, weights = np.array(data).squeeze(), np.array(weights).squeeze()\n",
    "#     s_data, s_weights = map(np.array, zip(*sorted(zip(data, weights))))\n",
    "#     midpoint = 0.5 * sum(s_weights)\n",
    "#     if any(weights > midpoint):\n",
    "#         w_median = (data[weights == np.max(weights)])[0]\n",
    "#     else:\n",
    "#         cs_weights = np.cumsum(s_weights)\n",
    "#         idx = np.where(cs_weights <= midpoint)[0][-1]\n",
    "#         if cs_weights[idx] == midpoint:\n",
    "#             w_median = np.mean(s_data[idx:idx+2])\n",
    "#         else:\n",
    "#             w_median = s_data[idx+1]\n",
    "#     return w_median\n",
    "\n",
    "# sulph = table[\"sulphates\"]\n",
    "# quality = table[\"quality\"]\n",
    "\n",
    "# pd.DataFrame.from_dict(\n",
    "#     {\n",
    "#     \"Середнє значення вмісту сульфатів\" : round(sulph.mean(),3),\n",
    "#     \"Середнє зважене значення вмісту сульфатів\" : round(np.average(sulph, weights = quality),3),\n",
    "#     \"Середнє усічене значення вмісту сульфатів\" : round(stats.trim_mean(sulph, 0.1),3),\n",
    "#     \"Медіана\" : round(sulph.median(),3),\n",
    "#     \"Зважена медіана\" : weighted_median(sulph,quality),\n",
    "#     \"Робастне значення вмісту сульфатів\" : round(robust.scale.mad(sulph),3)\n",
    "#     }, orient = \"index\", columns = [\"Значення\"])\n",
    "table.describe()"
   ]
  },
  {
   "cell_type": "markdown",
   "id": "a6029cdf",
   "metadata": {
    "papermill": {
     "duration": 0.008285,
     "end_time": "2022-10-24T12:52:52.728844",
     "exception": false,
     "start_time": "2022-10-24T12:52:52.720559",
     "status": "completed"
    },
    "tags": []
   },
   "source": [
    "На основі отриманих результатів можна зробити висновок що досить велике середньоквадратичне відхилення як і розмах наявний у **fixed acidity**. Решта змінних мають невелике відхилення."
   ]
  },
  {
   "cell_type": "markdown",
   "id": "b8b19a01",
   "metadata": {
    "papermill": {
     "duration": 0.008191,
     "end_time": "2022-10-24T12:52:52.745901",
     "exception": false,
     "start_time": "2022-10-24T12:52:52.737710",
     "status": "completed"
    },
    "tags": []
   },
   "source": [
    "# - оцінити параметри регресійних моделей за суттєвими чинниками якості вина (quality). "
   ]
  },
  {
   "cell_type": "code",
   "execution_count": 4,
   "id": "e67a08a0",
   "metadata": {
    "execution": {
     "iopub.execute_input": "2022-10-24T12:52:52.765457Z",
     "iopub.status.busy": "2022-10-24T12:52:52.764857Z",
     "iopub.status.idle": "2022-10-24T12:52:52.788673Z",
     "shell.execute_reply": "2022-10-24T12:52:52.789110Z",
     "shell.execute_reply.started": "2021-10-05T15:24:29.173869Z"
    },
    "papermill": {
     "duration": 0.034774,
     "end_time": "2022-10-24T12:52:52.789280",
     "exception": false,
     "start_time": "2022-10-24T12:52:52.754506",
     "status": "completed"
    },
    "tags": []
   },
   "outputs": [
    {
     "data": {
      "text/html": [
       "<div>\n",
       "<style scoped>\n",
       "    .dataframe tbody tr th:only-of-type {\n",
       "        vertical-align: middle;\n",
       "    }\n",
       "\n",
       "    .dataframe tbody tr th {\n",
       "        vertical-align: top;\n",
       "    }\n",
       "\n",
       "    .dataframe thead th {\n",
       "        text-align: right;\n",
       "    }\n",
       "</style>\n",
       "<table border=\"1\" class=\"dataframe\">\n",
       "  <thead>\n",
       "    <tr style=\"text-align: right;\">\n",
       "      <th></th>\n",
       "      <th>Незалежний елемент</th>\n",
       "      <th>Коефіціент</th>\n",
       "      <th>Оцінка прогнозування</th>\n",
       "    </tr>\n",
       "  </thead>\n",
       "  <tbody>\n",
       "    <tr>\n",
       "      <th>0</th>\n",
       "      <td>4.84775</td>\n",
       "      <td>1.197712</td>\n",
       "      <td>0.0632</td>\n",
       "    </tr>\n",
       "  </tbody>\n",
       "</table>\n",
       "</div>"
      ],
      "text/plain": [
       "   Незалежний елемент  Коефіціент  Оцінка прогнозування\n",
       "0             4.84775    1.197712                0.0632"
      ]
     },
     "execution_count": 4,
     "metadata": {},
     "output_type": "execute_result"
    }
   ],
   "source": [
    "model_linear = LinearRegression().fit(np.array(table['sulphates']).reshape((-1,1)), table['quality'])\n",
    "\n",
    "res = {\n",
    "    \"Незалежний елемент\" : model_linear.intercept_,\n",
    "    \"Коефіціент\" : model_linear.coef_,\n",
    "    \"Оцінка прогнозування\" : model_linear.score(np.array(table['sulphates']).reshape((-1,1)), table['quality'])   \n",
    "}\n",
    "\n",
    "pd.DataFrame.from_dict(res)"
   ]
  },
  {
   "cell_type": "code",
   "execution_count": 5,
   "id": "b400e3d8",
   "metadata": {
    "execution": {
     "iopub.execute_input": "2022-10-24T12:52:52.810189Z",
     "iopub.status.busy": "2022-10-24T12:52:52.809556Z",
     "iopub.status.idle": "2022-10-24T12:52:52.820603Z",
     "shell.execute_reply": "2022-10-24T12:52:52.821027Z",
     "shell.execute_reply.started": "2021-10-05T15:24:29.188332Z"
    },
    "papermill": {
     "duration": 0.022386,
     "end_time": "2022-10-24T12:52:52.821168",
     "exception": false,
     "start_time": "2022-10-24T12:52:52.798782",
     "status": "completed"
    },
    "tags": []
   },
   "outputs": [
    {
     "data": {
      "text/html": [
       "<div>\n",
       "<style scoped>\n",
       "    .dataframe tbody tr th:only-of-type {\n",
       "        vertical-align: middle;\n",
       "    }\n",
       "\n",
       "    .dataframe tbody tr th {\n",
       "        vertical-align: top;\n",
       "    }\n",
       "\n",
       "    .dataframe thead th {\n",
       "        text-align: right;\n",
       "    }\n",
       "</style>\n",
       "<table border=\"1\" class=\"dataframe\">\n",
       "  <thead>\n",
       "    <tr style=\"text-align: right;\">\n",
       "      <th></th>\n",
       "      <th>sulphates</th>\n",
       "      <th>fixed acidity</th>\n",
       "      <th>volatile acidity</th>\n",
       "      <th>citric acid</th>\n",
       "      <th>quality</th>\n",
       "    </tr>\n",
       "  </thead>\n",
       "  <tbody>\n",
       "    <tr>\n",
       "      <th>sulphates</th>\n",
       "      <td>1.000000</td>\n",
       "      <td>0.183006</td>\n",
       "      <td>-0.260987</td>\n",
       "      <td>0.312770</td>\n",
       "      <td>0.251397</td>\n",
       "    </tr>\n",
       "    <tr>\n",
       "      <th>fixed acidity</th>\n",
       "      <td>0.183006</td>\n",
       "      <td>1.000000</td>\n",
       "      <td>-0.256131</td>\n",
       "      <td>0.671703</td>\n",
       "      <td>0.124052</td>\n",
       "    </tr>\n",
       "    <tr>\n",
       "      <th>volatile acidity</th>\n",
       "      <td>-0.260987</td>\n",
       "      <td>-0.256131</td>\n",
       "      <td>1.000000</td>\n",
       "      <td>-0.552496</td>\n",
       "      <td>-0.390558</td>\n",
       "    </tr>\n",
       "    <tr>\n",
       "      <th>citric acid</th>\n",
       "      <td>0.312770</td>\n",
       "      <td>0.671703</td>\n",
       "      <td>-0.552496</td>\n",
       "      <td>1.000000</td>\n",
       "      <td>0.226373</td>\n",
       "    </tr>\n",
       "    <tr>\n",
       "      <th>quality</th>\n",
       "      <td>0.251397</td>\n",
       "      <td>0.124052</td>\n",
       "      <td>-0.390558</td>\n",
       "      <td>0.226373</td>\n",
       "      <td>1.000000</td>\n",
       "    </tr>\n",
       "  </tbody>\n",
       "</table>\n",
       "</div>"
      ],
      "text/plain": [
       "                  sulphates  fixed acidity  volatile acidity  citric acid  \\\n",
       "sulphates          1.000000       0.183006         -0.260987     0.312770   \n",
       "fixed acidity      0.183006       1.000000         -0.256131     0.671703   \n",
       "volatile acidity  -0.260987      -0.256131          1.000000    -0.552496   \n",
       "citric acid        0.312770       0.671703         -0.552496     1.000000   \n",
       "quality            0.251397       0.124052         -0.390558     0.226373   \n",
       "\n",
       "                   quality  \n",
       "sulphates         0.251397  \n",
       "fixed acidity     0.124052  \n",
       "volatile acidity -0.390558  \n",
       "citric acid       0.226373  \n",
       "quality           1.000000  "
      ]
     },
     "execution_count": 5,
     "metadata": {},
     "output_type": "execute_result"
    }
   ],
   "source": [
    "table.corr()"
   ]
  },
  {
   "cell_type": "code",
   "execution_count": 6,
   "id": "609e37e0",
   "metadata": {
    "execution": {
     "iopub.execute_input": "2022-10-24T12:52:52.842101Z",
     "iopub.status.busy": "2022-10-24T12:52:52.841575Z",
     "iopub.status.idle": "2022-10-24T12:52:52.863427Z",
     "shell.execute_reply": "2022-10-24T12:52:52.862947Z",
     "shell.execute_reply.started": "2021-10-05T15:24:29.200964Z"
    },
    "papermill": {
     "duration": 0.032594,
     "end_time": "2022-10-24T12:52:52.863542",
     "exception": false,
     "start_time": "2022-10-24T12:52:52.830948",
     "status": "completed"
    },
    "tags": []
   },
   "outputs": [
    {
     "data": {
      "text/html": [
       "<table class=\"simpletable\">\n",
       "<caption>OLS Regression Results</caption>\n",
       "<tr>\n",
       "  <th>Dep. Variable:</th>         <td>quality</td>     <th>  R-squared:         </th> <td>   0.063</td>\n",
       "</tr>\n",
       "<tr>\n",
       "  <th>Model:</th>                   <td>OLS</td>       <th>  Adj. R-squared:    </th> <td>   0.063</td>\n",
       "</tr>\n",
       "<tr>\n",
       "  <th>Method:</th>             <td>Least Squares</td>  <th>  F-statistic:       </th> <td>   107.7</td>\n",
       "</tr>\n",
       "<tr>\n",
       "  <th>Date:</th>             <td>Mon, 24 Oct 2022</td> <th>  Prob (F-statistic):</th> <td>1.80e-24</td>\n",
       "</tr>\n",
       "<tr>\n",
       "  <th>Time:</th>                 <td>12:52:52</td>     <th>  Log-Likelihood:    </th> <td> -1874.4</td>\n",
       "</tr>\n",
       "<tr>\n",
       "  <th>No. Observations:</th>      <td>  1599</td>      <th>  AIC:               </th> <td>   3753.</td>\n",
       "</tr>\n",
       "<tr>\n",
       "  <th>Df Residuals:</th>          <td>  1597</td>      <th>  BIC:               </th> <td>   3764.</td>\n",
       "</tr>\n",
       "<tr>\n",
       "  <th>Df Model:</th>              <td>     1</td>      <th>                     </th>     <td> </td>   \n",
       "</tr>\n",
       "<tr>\n",
       "  <th>Covariance Type:</th>      <td>nonrobust</td>    <th>                     </th>     <td> </td>   \n",
       "</tr>\n",
       "</table>\n",
       "<table class=\"simpletable\">\n",
       "<tr>\n",
       "      <td></td>         <th>coef</th>     <th>std err</th>      <th>t</th>      <th>P>|t|</th>  <th>[0.025</th>    <th>0.975]</th>  \n",
       "</tr>\n",
       "<tr>\n",
       "  <th>Intercept</th> <td>    4.8477</td> <td>    0.078</td> <td>   61.818</td> <td> 0.000</td> <td>    4.694</td> <td>    5.002</td>\n",
       "</tr>\n",
       "<tr>\n",
       "  <th>sulphates</th> <td>    1.1977</td> <td>    0.115</td> <td>   10.380</td> <td> 0.000</td> <td>    0.971</td> <td>    1.424</td>\n",
       "</tr>\n",
       "</table>\n",
       "<table class=\"simpletable\">\n",
       "<tr>\n",
       "  <th>Omnibus:</th>       <td>12.685</td> <th>  Durbin-Watson:     </th> <td>   1.712</td>\n",
       "</tr>\n",
       "<tr>\n",
       "  <th>Prob(Omnibus):</th> <td> 0.002</td> <th>  Jarque-Bera (JB):  </th> <td>  17.098</td>\n",
       "</tr>\n",
       "<tr>\n",
       "  <th>Skew:</th>          <td> 0.083</td> <th>  Prob(JB):          </th> <td>0.000194</td>\n",
       "</tr>\n",
       "<tr>\n",
       "  <th>Kurtosis:</th>      <td> 3.479</td> <th>  Cond. No.          </th> <td>    8.51</td>\n",
       "</tr>\n",
       "</table><br/><br/>Notes:<br/>[1] Standard Errors assume that the covariance matrix of the errors is correctly specified."
      ],
      "text/plain": [
       "<class 'statsmodels.iolib.summary.Summary'>\n",
       "\"\"\"\n",
       "                            OLS Regression Results                            \n",
       "==============================================================================\n",
       "Dep. Variable:                quality   R-squared:                       0.063\n",
       "Model:                            OLS   Adj. R-squared:                  0.063\n",
       "Method:                 Least Squares   F-statistic:                     107.7\n",
       "Date:                Mon, 24 Oct 2022   Prob (F-statistic):           1.80e-24\n",
       "Time:                        12:52:52   Log-Likelihood:                -1874.4\n",
       "No. Observations:                1599   AIC:                             3753.\n",
       "Df Residuals:                    1597   BIC:                             3764.\n",
       "Df Model:                           1                                         \n",
       "Covariance Type:            nonrobust                                         \n",
       "==============================================================================\n",
       "                 coef    std err          t      P>|t|      [0.025      0.975]\n",
       "------------------------------------------------------------------------------\n",
       "Intercept      4.8477      0.078     61.818      0.000       4.694       5.002\n",
       "sulphates      1.1977      0.115     10.380      0.000       0.971       1.424\n",
       "==============================================================================\n",
       "Omnibus:                       12.685   Durbin-Watson:                   1.712\n",
       "Prob(Omnibus):                  0.002   Jarque-Bera (JB):               17.098\n",
       "Skew:                           0.083   Prob(JB):                     0.000194\n",
       "Kurtosis:                       3.479   Cond. No.                         8.51\n",
       "==============================================================================\n",
       "\n",
       "Notes:\n",
       "[1] Standard Errors assume that the covariance matrix of the errors is correctly specified.\n",
       "\"\"\""
      ]
     },
     "execution_count": 6,
     "metadata": {},
     "output_type": "execute_result"
    }
   ],
   "source": [
    "model = sm.OLS.from_formula(formula=\"quality ~ sulphates\", data=table).fit()\n",
    "model.summary()"
   ]
  },
  {
   "cell_type": "markdown",
   "id": "0ca016ec",
   "metadata": {
    "papermill": {
     "duration": 0.010419,
     "end_time": "2022-10-24T12:52:52.883647",
     "exception": false,
     "start_time": "2022-10-24T12:52:52.873228",
     "status": "completed"
    },
    "tags": []
   },
   "source": [
    "Коефіцієнт детермінації є досить низьким що показує малу точність і спростування нульової гіпотези."
   ]
  },
  {
   "cell_type": "markdown",
   "id": "c9b9b4fb",
   "metadata": {
    "papermill": {
     "duration": 0.009396,
     "end_time": "2022-10-24T12:52:52.903962",
     "exception": false,
     "start_time": "2022-10-24T12:52:52.894566",
     "status": "completed"
    },
    "tags": []
   },
   "source": [
    "# Провести статистичну оцінку значущості та довірчих інтервалів для отриманих моделей."
   ]
  },
  {
   "cell_type": "code",
   "execution_count": 7,
   "id": "d7884c45",
   "metadata": {
    "execution": {
     "iopub.execute_input": "2022-10-24T12:52:52.926906Z",
     "iopub.status.busy": "2022-10-24T12:52:52.926402Z",
     "iopub.status.idle": "2022-10-24T12:52:53.319246Z",
     "shell.execute_reply": "2022-10-24T12:52:53.319769Z",
     "shell.execute_reply.started": "2021-10-05T15:24:29.224476Z"
    },
    "papermill": {
     "duration": 0.405048,
     "end_time": "2022-10-24T12:52:53.319957",
     "exception": false,
     "start_time": "2022-10-24T12:52:52.914909",
     "status": "completed"
    },
    "tags": []
   },
   "outputs": [
    {
     "data": {
      "text/plain": [
       "[<matplotlib.lines.Line2D at 0x7fc0e24fb290>]"
      ]
     },
     "execution_count": 7,
     "metadata": {},
     "output_type": "execute_result"
    },
    {
     "data": {
      "image/png": "[encoded data removed]",
      "text/plain": [
       "<Figure size 2160x360 with 1 Axes>"
      ]
     },
     "metadata": {
      "needs_background": "light"
     },
     "output_type": "display_data"
    }
   ],
   "source": [
    "pred = model.predict(table)[:100]\n",
    "real = table[\"quality\"][:100]\n",
    "\n",
    "xs = np.arange(len(table))[:100]\n",
    "\n",
    "fig = plt.figure(figsize = (30, 5))\n",
    "\n",
    "plt.plot(xs, real)\n",
    "plt.plot(xs, pred)"
   ]
  },
  {
   "cell_type": "markdown",
   "id": "0d225ce6",
   "metadata": {
    "papermill": {
     "duration": 0.012663,
     "end_time": "2022-10-24T12:52:53.345237",
     "exception": false,
     "start_time": "2022-10-24T12:52:53.332574",
     "status": "completed"
    },
    "tags": []
   },
   "source": [
    "За результатами графіку можна побачити що точність є низькою."
   ]
  }
 ],
 "metadata": {
  "kernelspec": {
   "display_name": "Python 3",
   "language": "python",
   "name": "python3"
  },
  "language_info": {
   "codemirror_mode": {
    "name": "ipython",
    "version": 3
   },
   "file_extension": ".py",
   "mimetype": "text/x-python",
   "name": "python",
   "nbconvert_exporter": "python",
   "pygments_lexer": "ipython3",
   "version": "3.7.10"
  },
  "papermill": {
   "default_parameters": {},
   "duration": 9.604352,
   "end_time": "2022-10-24T12:52:53.866107",
   "environment_variables": {},
   "exception": null,
   "input_path": "__notebook__.ipynb",
   "output_path": "__notebook__.ipynb",
   "parameters": {},
   "start_time": "2022-10-24T12:52:44.261755",
   "version": "2.3.3"
  }
 },
 "nbformat": 4,
 "nbformat_minor": 5
}
